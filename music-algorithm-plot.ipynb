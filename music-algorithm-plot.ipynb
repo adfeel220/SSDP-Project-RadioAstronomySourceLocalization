{
 "cells": [
  {
   "cell_type": "markdown",
   "metadata": {},
   "source": [
    "#### Music algorithm"
   ]
  },
  {
   "cell_type": "code",
   "execution_count": 37,
   "metadata": {},
   "outputs": [
    {
     "name": "stdout",
     "output_type": "stream",
     "text": [
      "[[-0.63162207 -0.48892353  0.60167046]\n",
      " [-0.63127202 -0.48937541  0.60167046]\n",
      " [-0.63092165 -0.48982704  0.60167046]\n",
      " ...\n",
      " [-0.66759104 -0.52290558  0.52999241]\n",
      " [-0.66721667 -0.52338319  0.52999241]\n",
      " [-0.66684195 -0.52386053  0.52999241]]\n"
     ]
    }
   ],
   "source": [
    "# mapping from 3 coordinates to 1 (opposite of unravel)\n",
    "def ravel_index(x, dims):\n",
    "    i = 0\n",
    "    for dim, j in zip(dims, x):\n",
    "        i *= dim\n",
    "        i += j\n",
    "    return i\n",
    "positionsY=data['px_grid']\n",
    "print(positionsY)"
   ]
  },
  {
   "cell_type": "code",
   "execution_count": 62,
   "metadata": {},
   "outputs": [],
   "source": [
    "def music(S, positionsY=data['px_grid']):\n",
    "    '''\n",
    "    params:\n",
    "    S: visibility matrix. shape = (n_timeframes, n_antenna, n_antenna): correlation matrix \n",
    "    '''\n",
    "    N = 3\n",
    "    M = 21\n",
    "    P = []\n",
    "    c0 = 3e8;#speed of light \n",
    "    fStop = 77e9;\n",
    "    fStrt = 76e9;\n",
    "    r=[];\n",
    "\n",
    "    for x in range(S.shape[0]): \n",
    "        # finding eigen values and eigen vectors\n",
    "        eigvals, eigvecs = np.linalg.eig(S[x,:,:])\n",
    "        #print(\"Covariance Matrix S : \", S[0,:,:].shape)\n",
    "        # sorting eig vals and eig vecs in decreasing order of eig vals\n",
    "        idx = eigvals.argsort()[::-1]\n",
    "        eigvals = eigvals[idx]\n",
    "        eigvecs = eigvecs[:, idx]\n",
    "        #print(\"Eigenvalues: \", eigvals)\n",
    "        #print(\"Eigenvectors: \", eigvecs)\n",
    "        #plt.plot(eigvals)\n",
    "        #For each x, there always 3 leading eigenvalues which will be taken for the sources and the rest for the noise\n",
    "        # separating source and noise eigvectors\n",
    "        E, En = eigvecs[:, :N], eigvecs[:, N:]\n",
    "        print(En.shape)\n",
    "        #Us: signal matrix: (24,3)\n",
    "        #Un: noise matrix: (24,21)\n",
    "        #calculate P\n",
    "        # MUSIC search directions\n",
    "        AzSearch = np.arange(-90, 90, 0.1); # Azimuth values to search\n",
    "        print(AzSearch.shape)\n",
    "        ElSearch = [0];#placeholder, we do not do elevation\n",
    "        NrChn = 24 #number of antennas\n",
    "        for i in range (NrChn):\n",
    "            r.append( [0.,ravel_index(positionsY[i],positionsY[i].shape)/1000.,0.]);\n",
    "        # Wavenumber vectors (in units of wavelength/2)\n",
    "        X1 = np.cos(np.multiply(AzSearch, np.pi / 180.)); \n",
    "        X2 = np.sin(np.multiply(AzSearch, np.pi / 180.));\n",
    "        X3 = np.sin(np.multiply(AzSearch, 0.));\n",
    "        kSearch  = np.multiply([X1, X2, X3], 2*np.pi/ (c0 / ((fStop+fStrt)/2)));\n",
    "        print(kSearch.shape)\n",
    "        ku = np.dot (r,kSearch);\n",
    "        print(ku.shape)\n",
    "        ASearch = np.exp(np.multiply(ku, -1j));\n",
    "        print(ASearch.shape)\n",
    "        chemodan = np.dot(np.transpose(ASearch), En);    \n",
    "        aac = np.absolute(chemodan);\n",
    "        aad = np.square(aac);\n",
    "        aae = np.sum(aad,1);\n",
    "        Z = aae;\n",
    "        # Get spherical coordinates\n",
    "        P = np.unravel_index(Z.argmin(), Z.shape);\n",
    "        print(AzSearch[P]);\n",
    "        return AzSearch, Z"
   ]
  },
  {
   "cell_type": "code",
   "execution_count": 63,
   "metadata": {},
   "outputs": [
    {
     "name": "stdout",
     "output_type": "stream",
     "text": [
      "(24, 21)\n",
      "(1800,)\n",
      "(3, 1800)\n",
      "(24, 1800)\n",
      "(24, 1800)\n",
      "89.89999999998977\n"
     ]
    },
    {
     "data": {
      "text/plain": [
       "(array([-90. , -89.9, -89.8, ...,  89.7,  89.8,  89.9]),\n",
       " array([21.80609426, 21.80609426, 21.80609426, ..., 21.80523179,\n",
       "        21.80523179, 21.80523178]))"
      ]
     },
     "execution_count": 63,
     "metadata": {},
     "output_type": "execute_result"
    }
   ],
   "source": [
    "music(data['S'])"
   ]
  },
  {
   "cell_type": "code",
   "execution_count": null,
   "metadata": {},
   "outputs": [],
   "source": []
  }
 ],
 "metadata": {
  "interpreter": {
   "hash": "26dbab4d7e02ba459186ebcb72ddda5aa47c2b35fbbb2053da609fb7681cc64a"
  },
  "kernelspec": {
   "display_name": "Python 3 (ipykernel)",
   "language": "python",
   "name": "python3"
  },
  "language_info": {
   "codemirror_mode": {
    "name": "ipython",
    "version": 3
   },
   "file_extension": ".py",
   "mimetype": "text/x-python",
   "name": "python",
   "nbconvert_exporter": "python",
   "pygments_lexer": "ipython3",
   "version": "3.8.10"
  }
 },
 "nbformat": 4,
 "nbformat_minor": 2
}
